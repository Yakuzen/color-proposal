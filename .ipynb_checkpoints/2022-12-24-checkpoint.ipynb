{
 "cells": [
  {
   "cell_type": "code",
   "execution_count": 1,
   "id": "4cafecfc-74a7-4e40-8a10-61018b73d235",
   "metadata": {},
   "outputs": [
    {
     "name": "stdin",
     "output_type": "stream",
     "text": [
      " 2 3\n"
     ]
    },
    {
     "name": "stdout",
     "output_type": "stream",
     "text": [
      "8\n"
     ]
    }
   ],
   "source": [
    "a,b = input().split()\n",
    "\n",
    "print(pow(int(a), int(b)))"
   ]
  },
  {
   "cell_type": "code",
   "execution_count": 4,
   "id": "77e71d72-c35d-43e2-888b-425920657d8d",
   "metadata": {},
   "outputs": [
    {
     "name": "stdin",
     "output_type": "stream",
     "text": [
      " 3\n",
      " 1 3 5\n",
      " 7\n",
      " 2 2\n",
      " 2 3\n",
      " 1 3 0\n",
      " 2 3\n",
      " 1 2 8\n",
      " 2 2\n",
      " 2 1\n"
     ]
    },
    {
     "name": "stdout",
     "output_type": "stream",
     "text": [
      "3\n",
      "5\n",
      "0\n",
      "8\n",
      "1\n"
     ]
    }
   ],
   "source": [
    "n = int(input())\n",
    "A = [int(i) for i in input().split()]\n",
    "q = int(input())\n",
    "\n",
    "Q = [list(map(int, input().split())) for _ in range(q)]\n",
    "\n",
    "for i in range(q):\n",
    "    if(Q[i][0] == 1):\n",
    "        A[Q[i][1]-1] = Q[i][2]\n",
    "    else:\n",
    "        print(A[Q[i][1]-1])"
   ]
  },
  {
   "cell_type": "code",
   "execution_count": 11,
   "id": "680b295f-01da-4859-8c64-22fa205cdd2f",
   "metadata": {},
   "outputs": [
    {
     "name": "stdin",
     "output_type": "stream",
     "text": [
      " 2345\n"
     ]
    },
    {
     "name": "stdout",
     "output_type": "stream",
     "text": [
      "2\n"
     ]
    }
   ],
   "source": [
    "s = input()\n",
    "s_int = int(s)\n",
    "\n",
    "print(s[-len(s)])\n",
    "\n"
   ]
  }
 ],
 "metadata": {
  "kernelspec": {
   "display_name": "Python 3 (ipykernel)",
   "language": "python",
   "name": "python3"
  },
  "language_info": {
   "codemirror_mode": {
    "name": "ipython",
    "version": 3
   },
   "file_extension": ".py",
   "mimetype": "text/x-python",
   "name": "python",
   "nbconvert_exporter": "python",
   "pygments_lexer": "ipython3",
   "version": "3.7.15"
  }
 },
 "nbformat": 4,
 "nbformat_minor": 5
}
